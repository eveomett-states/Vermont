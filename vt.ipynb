{
 "cells": [
  {
   "cell_type": "markdown",
   "metadata": {},
   "source": [
    "# Vermont"
   ]
  },
  {
   "cell_type": "markdown",
   "metadata": {},
   "source": [
    "All data retrieved 05/23/24:\n",
    "https://redistrictingdatahub.org/dataset/vermont-block-pl-94171-2020-by-table/\n",
    "\n",
    "https://redistrictingdatahub.org/dataset/vest-2020-vermont-precinct-boundaries-and-election-results-shapefile/\n",
    "https://redistrictingdatahub.org/dataset/vest-2018-vermont-precinct-and-election-results/\n",
    "https://redistrictingdatahub.org/dataset/vest-2016-vermont-precinct-and-election-results/\n",
    "\n",
    "https://redistrictingdatahub.org/dataset/2022-vermont-senate-districts-approved-plan/\n",
    "https://redistrictingdatahub.org/dataset/2022-vermont-house-of-representatives-districts-approved-plan/"
   ]
  },
  {
   "cell_type": "code",
   "execution_count": 3,
   "metadata": {},
   "outputs": [],
   "source": [
    "import pandas as pd\n",
    "import geopandas as gpd\n",
    "import maup\n",
    "import time\n",
    "from maup import smart_repair\n",
    "from gerrychain import Graph\n",
    "\n",
    "maup.progress.enabled = True"
   ]
  },
  {
   "cell_type": "code",
   "execution_count": 4,
   "metadata": {},
   "outputs": [],
   "source": [
    "import warnings\n",
    "warnings.filterwarnings(\"ignore\")"
   ]
  },
  {
   "cell_type": "code",
   "execution_count": 5,
   "metadata": {},
   "outputs": [],
   "source": [
    "# state = Vermont\n",
    "state_ab = \"vt\""
   ]
  },
  {
   "cell_type": "markdown",
   "metadata": {},
   "source": [
    "## Data\n",
    "1. Download all the data in directory \"vt_data\"\n",
    "2. Extract them all"
   ]
  },
  {
   "cell_type": "code",
   "execution_count": 7,
   "metadata": {},
   "outputs": [],
   "source": [
    "data_folder = state_ab + \"_data/\"\n",
    "population1_data = \"./{}{}_pl2020_b/{}_pl2020_p1_b.shp\".format(data_folder, state_ab, state_ab)\n",
    "population2_data = \"./{}{}_pl2020_b/{}_pl2020_p2_b.shp\".format(data_folder, state_ab, state_ab)\n",
    "vap_data =  \"./{}{}_pl2020_b/{}_pl2020_p4_b.shp\".format(data_folder, state_ab, state_ab)\n",
    "vest20_data = \"./{}{}_vest_20/{}_vest_20.shp\".format(data_folder, state_ab, state_ab)\n",
    "vest18_data = \"./{}{}_vest_18/{}_vest_18.shp\".format(data_folder, state_ab, state_ab)\n",
    "vest16_data = \"./{}{}_vest_16/{}_vest_16.shp\".format(data_folder, state_ab, state_ab)\n",
    "send_data = \"./{}{}_sldu_adopted_2022/Districts 2022-04-05.shp\".format(data_folder, state_ab)\n",
    "hdist_data = \"./{}{}_sldl_adopted_2022/Districts 2022-04-05.shp\".format(data_folder, state_ab)\n",
    "county_data = \"./{}{}_cvap_2022_cnty/{}_cvap_2022_cnty.shp\".format(data_folder, state_ab, state_ab)"
   ]
  },
  {
   "cell_type": "code",
   "execution_count": 8,
   "metadata": {},
   "outputs": [],
   "source": [
    "def do_smart_repair(df, min_rook_length = None, snap_precision = 10):\n",
    "    # change it to the UTM it needs for smart_repair\n",
    "    df = df.to_crs(df.estimate_utm_crs())\n",
    "    df = smart_repair(df, min_rook_length = min_rook_length)\n",
    "\n",
    "    if maup.doctor(df) == False:\n",
    "        raise Exception('maup.doctor failed')\n",
    "    \n",
    "    return df"
   ]
  },
  {
   "cell_type": "code",
   "execution_count": 9,
   "metadata": {},
   "outputs": [],
   "source": [
    "def add_district(dist_df, dist_name, election_df, col_name):\n",
    "    election_df = election_df.to_crs(election_df.estimate_utm_crs())\n",
    "    dist_df = dist_df.to_crs(dist_df.estimate_utm_crs())\n",
    "    # check if it needs to be smart_repair\n",
    "    if maup.doctor(dist_df) != True:\n",
    "        dist_df = do_smart_repair(dist_df)\n",
    "\n",
    "    # assign the pricincts\n",
    "    precincts_to_district_assignment = maup.assign(election_df.geometry, dist_df.geometry)\n",
    "    election_df[dist_name] = precincts_to_district_assignment\n",
    "    for precinct_index in range(len(election_df)):\n",
    "        election_df.at[precinct_index, dist_name] = dist_df.at[election_df.at[precinct_index, dist_name], col_name]\n",
    "\n",
    "    return election_df"
   ]
  },
  {
   "cell_type": "code",
   "execution_count": 10,
   "metadata": {},
   "outputs": [],
   "source": [
    "def rename(original, year):\n",
    "    party = original[6]\n",
    "    if party == 'R' or party == 'D':\n",
    "        return original[3:6] + year + original[6]\n",
    "    else:\n",
    "        return original[3:6] + year + 'O'"
   ]
  },
  {
   "cell_type": "code",
   "execution_count": 11,
   "metadata": {},
   "outputs": [],
   "source": [
    "pop_col = ['TOTPOP', 'HISP', 'NH_WHITE', 'NH_BLACK', 'NH_AMIN', 'NH_ASIAN', 'NH_NHPI', 'NH_OTHER', 'NH_2MORE', 'H_WHITE', 'H_BLACK', 'H_AMIN', 'H_ASIAN', 'H_NHPI', 'H_OTHER', 'H_2MORE', 'VAP', 'HVAP', 'WVAP', 'BVAP', 'AMINVAP', 'ASIANVAP', 'NHPIVAP', 'OTHERVAP', '2MOREVAP']"
   ]
  },
  {
   "cell_type": "code",
   "execution_count": 12,
   "metadata": {},
   "outputs": [],
   "source": [
    "def check_population(population, df):\n",
    "    pop_check = pd.DataFrame({\n",
    "        'pop_col': pop_col,\n",
    "        'population_df': population[pop_col].sum(), \n",
    "        'vest_base': df[pop_col].sum(),\n",
    "        'equal': [x == y for x, y in zip(population[pop_col].sum(), df[pop_col].sum())]\n",
    "    })\n",
    "    if pop_check['equal'].mean() < 1:\n",
    "        print(pop_check)\n",
    "        raise Exception(\"population doesn't agree\")\n",
    "\n",
    "    else:\n",
    "        print(\"population agrees\")"
   ]
  },
  {
   "cell_type": "code",
   "execution_count": 13,
   "metadata": {},
   "outputs": [],
   "source": [
    "def add_vest(vest, df, year, population, start_col, snap_precision = 10):\n",
    "    df = df.to_crs(df.estimate_utm_crs())\n",
    "    vest = vest.to_crs(vest.estimate_utm_crs())\n",
    "    population = population.to_crs(population.estimate_utm_crs())\n",
    "    df_crs = df.crs\n",
    "    vest_crs = vest.crs\n",
    "    \n",
    "     # check if it needs to be smart_repair\n",
    "    if maup.doctor(vest) != True:\n",
    "        vest = do_smart_repair(vest, snap_precision = snap_precision)\n",
    "    \n",
    "    # rename the columns\n",
    "    original_col = vest.columns[start_col:-1]\n",
    "    new_col = [rename(i, year) for i in original_col]\n",
    "    rename_dict = dict(zip(original_col, new_col))\n",
    "    vest = vest.rename(columns=rename_dict)\n",
    "    vest = vest.groupby(level=0, axis=1).sum() # combine all the other party's vote into columns with sufix \"O\"\n",
    "    col_name = list(set(new_col))\n",
    "    col_name.sort()\n",
    "    \n",
    "    # make the blocks from precincts by weight\n",
    "    vest = gpd.GeoDataFrame(vest, crs=vest_crs)\n",
    "    election_in_block = population[[\"VAP\", 'geometry']] # population_df is in block scale\n",
    "    blocks_to_precincts_assignment = maup.assign(election_in_block.geometry, vest.geometry)\n",
    "    weights = election_in_block[\"VAP\"] / blocks_to_precincts_assignment.map(election_in_block[\"VAP\"].groupby(blocks_to_precincts_assignment).sum())\n",
    "    weights = weights.fillna(0)\n",
    "    prorated = maup.prorate(blocks_to_precincts_assignment, vest[col_name], weights)\n",
    "    election_in_block[col_name] = prorated\n",
    "    \n",
    "    # assign blocks to precincts\n",
    "    election_in_block = gpd.GeoDataFrame(election_in_block, crs=vest_crs)\n",
    "    df = gpd.GeoDataFrame(df, crs=df_crs)\n",
    "    block_to_pricinct_assginment = maup.assign(election_in_block.geometry, df.geometry)\n",
    "    df[col_name] = election_in_block[col_name].groupby(block_to_pricinct_assginment).sum()\n",
    "    df = df.groupby(level=0, axis=1).sum()\n",
    "    df = gpd.GeoDataFrame(df, crs = df_crs)\n",
    "    # check if population agrees\n",
    "    check_population(population, df)\n",
    "    \n",
    "    return df"
   ]
  },
  {
   "cell_type": "code",
   "execution_count": 14,
   "metadata": {},
   "outputs": [],
   "source": [
    "def add_vest_base(vest, start_col, year, county = None, min_rook_length = None, snap_precision = 10):\n",
    "    vest = vest.to_crs(vest.estimate_utm_crs())\n",
    "    vest_crs = vest.crs\n",
    "    original_col = vest.columns[start_col:-1]\n",
    "    new_col = [rename(i, year) for i in original_col]\n",
    "    rename_dict = dict(zip(original_col, new_col))\n",
    "    vest = vest.rename(columns=rename_dict)\n",
    "    vest = vest.groupby(level=0, axis=1).sum()\n",
    "    vest = gpd.GeoDataFrame(vest, crs=vest_crs)\n",
    "\n",
    "    if county is not None:\n",
    "        county = county.to_crs(county.estimate_utm_crs())\n",
    "        vest = smart_repair(vest, nest_within_regions = county, min_rook_length = min_rook_length, snap_precision = snap_precision) # nest precincts within counties\n",
    "\n",
    "    else:\n",
    "        vest = smart_repair(vest, min_rook_length = min_rook_length, snap_precision = snap_precision) \n",
    "    \n",
    "    return vest"
   ]
  },
  {
   "cell_type": "code",
   "execution_count": 15,
   "metadata": {},
   "outputs": [],
   "source": [
    "def check_small_boundary_lengths(vest_base):\n",
    "    import copy\n",
    "    vest_base = vest_base.to_crs(vest_base.estimate_utm_crs())\n",
    "\n",
    "    boundaries = copy.deepcopy(vest_base)\n",
    "    boundaries[\"geometry\"] = boundaries.geometry.boundary  # get boundaries\n",
    "    neighbors = gpd.sjoin(boundaries, vest_base, predicate=\"intersects\") # find boundaries that intersect\n",
    "    neighbors = neighbors[neighbors.index != neighbors.index_right] # remove boundaries of a region with itself\n",
    "\n",
    "    # compute shared border length using intersection\n",
    "    borders = list(neighbors.apply(\n",
    "        lambda row: row.geometry.intersection(vest_base.loc[row.index_right, \"geometry\"]).length, axis=1\n",
    "    ))\n",
    "\n",
    "    borders.sort()\n",
    "    \n",
    "    return borders"
   ]
  },
  {
   "cell_type": "markdown",
   "metadata": {},
   "source": [
    "### Read the census data"
   ]
  },
  {
   "cell_type": "code",
   "execution_count": 17,
   "metadata": {},
   "outputs": [],
   "source": [
    "population1_df = gpd.read_file(population1_data)\n",
    "population2_df = gpd.read_file(population2_data)\n",
    "vap_df = gpd.read_file(vap_data)\n",
    "county_df = gpd.read_file(county_data)"
   ]
  },
  {
   "cell_type": "code",
   "execution_count": 18,
   "metadata": {},
   "outputs": [],
   "source": [
    "population2_df = population2_df.drop(columns=['SUMLEV', 'LOGRECNO', 'GEOID', 'COUNTY', 'geometry'])\n",
    "vap_df = vap_df.drop(columns=['SUMLEV', 'LOGRECNO', 'GEOID', 'COUNTY', 'geometry'])"
   ]
  },
  {
   "cell_type": "code",
   "execution_count": 19,
   "metadata": {},
   "outputs": [],
   "source": [
    "population_df = pd.merge(population1_df, population2_df, on='GEOID20')\n",
    "population_df = pd.merge(population_df, vap_df, on='GEOID20')\n",
    "population_df = population_df.to_crs(population_df.estimate_utm_crs())"
   ]
  },
  {
   "cell_type": "code",
   "execution_count": 20,
   "metadata": {},
   "outputs": [
    {
     "name": "stderr",
     "output_type": "stream",
     "text": [
      "100%|███████████████████████████████████| 24611/24611 [00:11<00:00, 2109.79it/s]\n"
     ]
    },
    {
     "data": {
      "text/plain": [
       "True"
      ]
     },
     "execution_count": 20,
     "metadata": {},
     "output_type": "execute_result"
    }
   ],
   "source": [
    "maup.doctor(population_df)"
   ]
  },
  {
   "cell_type": "code",
   "execution_count": 21,
   "metadata": {},
   "outputs": [
    {
     "data": {
      "text/plain": [
       "Index(['GEOID20', 'SUMLEV', 'LOGRECNO', 'GEOID', 'COUNTY', 'P0010001',\n",
       "       'P0010002', 'P0010003', 'P0010004', 'P0010005',\n",
       "       ...\n",
       "       'P0040064', 'P0040065', 'P0040066', 'P0040067', 'P0040068', 'P0040069',\n",
       "       'P0040070', 'P0040071', 'P0040072', 'P0040073'],\n",
       "      dtype='object', length=223)"
      ]
     },
     "execution_count": 21,
     "metadata": {},
     "output_type": "execute_result"
    }
   ],
   "source": [
    "population_df.columns"
   ]
  },
  {
   "cell_type": "code",
   "execution_count": 22,
   "metadata": {},
   "outputs": [],
   "source": [
    "population_df['H_WHITE'] = population_df.apply(lambda t: t['P0010003'] - t['P0020005'], 1)\n",
    "population_df['H_BLACK'] = population_df.apply(lambda t: t['P0010004'] - t['P0020006'], 1)\n",
    "population_df['H_AMIN'] = population_df.apply(lambda t: t['P0010005'] - t['P0020007'], 1)\n",
    "population_df['H_ASIAN'] = population_df.apply(lambda t: t['P0010006'] - t['P0020008'], 1)\n",
    "population_df['H_NHPI'] = population_df.apply(lambda t: t['P0010007'] - t['P0020009'], 1)\n",
    "population_df['H_OTHER'] = population_df.apply(lambda t: t['P0010008'] - t['P0020010'], 1)\n",
    "population_df['H_2MORE'] = population_df.apply(lambda t: t['P0010009'] - t['P0020011'], 1)"
   ]
  },
  {
   "cell_type": "code",
   "execution_count": 23,
   "metadata": {},
   "outputs": [],
   "source": [
    "rename_dict = {'P0020001': 'TOTPOP', 'P0020002': 'HISP', 'P0020005': 'NH_WHITE', 'P0020006': 'NH_BLACK', 'P0020007': 'NH_AMIN',\n",
    "                    'P0020008': 'NH_ASIAN', 'P0020009': 'NH_NHPI', 'P0020010': 'NH_OTHER', 'P0020011': 'NH_2MORE',\n",
    "                    'P0040001': 'VAP', 'P0040002': 'HVAP', 'P0040005': 'WVAP', 'P0040006': 'BVAP', 'P0040007': 'AMINVAP',\n",
    "                                        'P0040008': 'ASIANVAP', 'P0040009': 'NHPIVAP', 'P0040010': 'OTHERVAP', 'P0040011': '2MOREVAP'}"
   ]
  },
  {
   "cell_type": "code",
   "execution_count": 24,
   "metadata": {},
   "outputs": [],
   "source": [
    "population_df.rename(columns=rename_dict, inplace = True)"
   ]
  },
  {
   "cell_type": "code",
   "execution_count": 25,
   "metadata": {},
   "outputs": [
    {
     "name": "stderr",
     "output_type": "stream",
     "text": [
      "100%|█████████████████████████████████████████| 14/14 [00:00<00:00, 2682.03it/s]\n"
     ]
    },
    {
     "data": {
      "text/plain": [
       "True"
      ]
     },
     "execution_count": 25,
     "metadata": {},
     "output_type": "execute_result"
    }
   ],
   "source": [
    "county_df = county_df.to_crs(county_df.estimate_utm_crs())\n",
    "maup.doctor(county_df)"
   ]
  },
  {
   "cell_type": "markdown",
   "metadata": {},
   "source": [
    "## Read the vest 20 data\n",
    "\n",
    "Now using it as a \"base pricinct\""
   ]
  },
  {
   "cell_type": "markdown",
   "metadata": {},
   "source": [
    "#### Check if vest20 can be used as base"
   ]
  },
  {
   "cell_type": "code",
   "execution_count": 28,
   "metadata": {},
   "outputs": [],
   "source": [
    "vest20 = gpd.read_file(vest20_data)"
   ]
  },
  {
   "cell_type": "code",
   "execution_count": 29,
   "metadata": {},
   "outputs": [
    {
     "data": {
      "text/plain": [
       "Index(['STATEFP20', 'COUNTYFP20', 'NAME20', 'G20PREDBID', 'G20PRERTRU',\n",
       "       'G20PRELJOR', 'G20PREGHAW', 'G20PREIWES', 'G20PREOOTH', 'G20PREOSAN',\n",
       "       'G20PREOWRI', 'G20HALDWEL', 'G20HALDRBE', 'G20HALCHEL', 'G20HALIBEC',\n",
       "       'G20HALIHOR', 'G20HALIORR', 'G20HALITRU', 'G20HALOWRI', 'G20GOVDZUC',\n",
       "       'G20GOVRSCO', 'G20GOVIHOY', 'G20GOVTPEY', 'G20GOVIWHI', 'G20GOVIBIL',\n",
       "       'G20GOVIDEV', 'G20GOVUDIC', 'G20GOVOWRI', 'G20LTGDGRA', 'G20LTGRMIL',\n",
       "       'G20LTGPERI', 'G20LTGIBIL', 'G20LTGBCOR', 'G20LTGOWRI', 'G20ATGDDON',\n",
       "       'G20ATGRPAI', 'G20ATGPERI', 'G20ATGOWRI', 'G20SOSDCON', 'G20SOSRPAI',\n",
       "       'G20SOSPERI', 'G20SOSISMI', 'G20SOSOWRI', 'G20TREDPEA', 'G20TRERBRA',\n",
       "       'G20TREPERI', 'G20TREIWRI', 'G20TREOWRI', 'G20AUDOHOF', 'G20AUDPERI',\n",
       "       'G20AUDOWRI', 'geometry'],\n",
       "      dtype='object')"
      ]
     },
     "execution_count": 29,
     "metadata": {},
     "output_type": "execute_result"
    }
   ],
   "source": [
    "vest20.columns"
   ]
  },
  {
   "cell_type": "code",
   "execution_count": 30,
   "metadata": {},
   "outputs": [],
   "source": [
    "start_col = 3\n",
    "vest_base_data = vest20\n",
    "year = '20'"
   ]
  },
  {
   "cell_type": "code",
   "execution_count": 31,
   "metadata": {},
   "outputs": [
    {
     "name": "stderr",
     "output_type": "stream",
     "text": [
      "100%|█████████████████████████████████████████| 14/14 [00:00<00:00, 2670.32it/s]\n"
     ]
    },
    {
     "name": "stdout",
     "output_type": "stream",
     "text": [
      "Snapping all geometries to a grid with precision 10^( -5 ) to avoid GEOS errors.\n"
     ]
    },
    {
     "name": "stderr",
     "output_type": "stream",
     "text": [
      "100%|█████████████████████████████████████████| 14/14 [00:00<00:00, 1986.41it/s]\n",
      "100%|██████████████████████████████████████████| 14/14 [00:00<00:00, 424.95it/s]\n"
     ]
    },
    {
     "name": "stdout",
     "output_type": "stream",
     "text": [
      "Identifying overlaps...\n"
     ]
    },
    {
     "name": "stderr",
     "output_type": "stream",
     "text": [
      "100%|█████████████████████████████████████| 2812/2812 [00:00<00:00, 8233.90it/s]\n"
     ]
    },
    {
     "name": "stdout",
     "output_type": "stream",
     "text": [
      "Resolving overlaps and filling gaps...\n"
     ]
    },
    {
     "name": "stderr",
     "output_type": "stream",
     "text": [
      "100%|█████████████████████████████████████████| 14/14 [00:00<00:00, 1948.44it/s]\n",
      "100%|██████████████████████████████████████████| 14/14 [00:00<00:00, 415.33it/s]\n",
      "Gaps to simplify in region 0: 100%|██████████| 138/138 [00:00<00:00, 155.91it/s]\n",
      "Gaps to fill in region 0: 100%|███████████████████| 7/7 [00:00<00:00, 96.24it/s]\n",
      "Gaps to simplify in region 1: 100%|██████████| 294/294 [00:01<00:00, 173.29it/s]\n",
      "Gaps to fill in region 1: 100%|███████████████████| 7/7 [00:00<00:00, 90.13it/s]\n",
      "Gaps to simplify in region 2: 100%|████████████| 67/67 [00:00<00:00, 108.27it/s]\n",
      "Gaps to fill in region 2: 100%|███████████████████| 5/5 [00:00<00:00, 60.10it/s]\n",
      "Gaps to simplify in region 3: 100%|████████████| 38/38 [00:00<00:00, 154.65it/s]\n",
      "Gaps to fill in region 3: 100%|███████████████████| 3/3 [00:00<00:00, 73.96it/s]\n",
      "Gaps to simplify in region 4: 100%|████████████| 97/97 [00:00<00:00, 143.89it/s]\n",
      "Gaps to fill in region 4: 100%|██████████████████| 4/4 [00:00<00:00, 119.27it/s]\n",
      "Gaps to simplify in region 5: 100%|██████████| 110/110 [00:01<00:00, 104.20it/s]\n",
      "Gaps to fill in region 5: 100%|███████████████████| 8/8 [00:00<00:00, 44.60it/s]\n",
      "Gaps to simplify in region 6: 100%|██████████| 157/157 [00:01<00:00, 139.99it/s]\n",
      "Gaps to fill in region 6: 100%|███████████████████| 7/7 [00:00<00:00, 51.95it/s]\n",
      "Gaps to simplify in region 7: 100%|██████████| 155/155 [00:00<00:00, 180.38it/s]\n",
      "Gaps to fill in region 7: 100%|███████████████████| 2/2 [00:00<00:00, 72.30it/s]\n",
      "Gaps to simplify in region 8: 100%|█████████████| 44/44 [00:00<00:00, 85.75it/s]\n",
      "Gaps to fill in region 8: 100%|███████████████████| 6/6 [00:00<00:00, 77.09it/s]\n",
      "Gaps to simplify in region 9: 100%|████████████| 72/72 [00:00<00:00, 137.15it/s]\n",
      "Gaps to fill in region 9: 100%|███████████████████| 4/4 [00:00<00:00, 62.87it/s]\n",
      "Gaps to simplify in region 10: 100%|█████████| 103/103 [00:00<00:00, 190.38it/s]\n",
      "Gaps to fill in region 10: 100%|██████████████████| 3/3 [00:00<00:00, 82.50it/s]\n",
      "Gaps to simplify in region 11: 100%|███████████| 91/91 [00:00<00:00, 117.19it/s]\n",
      "Gaps to fill in region 11: 100%|██████████████████| 8/8 [00:00<00:00, 82.50it/s]\n",
      "Gaps to simplify in region 12: 100%|█████████| 126/126 [00:00<00:00, 152.60it/s]\n",
      "Gaps to fill in region 12: 100%|██████████████████| 6/6 [00:00<00:00, 78.07it/s]\n",
      "Gaps to simplify in region 13: 100%|███████████| 37/37 [00:00<00:00, 132.60it/s]\n",
      "Gaps to fill in region 13: 100%|██████████████████| 5/5 [00:00<00:00, 57.04it/s]\n"
     ]
    }
   ],
   "source": [
    "vest_base = add_vest_base(vest_base_data, start_col, year, county = county_df)"
   ]
  },
  {
   "cell_type": "code",
   "execution_count": 32,
   "metadata": {},
   "outputs": [
    {
     "name": "stdout",
     "output_type": "stream",
     "text": [
      "[0.0, 0.0, 0.0, 0.0, 0.0, 0.0, 0.0, 0.0, 0.0, 0.0, 0.0, 0.0, 0.0, 0.0, 0.0, 0.0, 0.0, 0.0, 0.0, 0.0, 0.0, 0.0, 0.0, 0.0, 0.0, 0.0, 0.0, 0.0, 0.0, 0.0, 0.0, 0.0, 0.0, 0.0, 0.0, 0.0, 0.0, 0.0, 0.0, 0.0, 0.0, 0.0, 0.0, 0.0, 0.0, 0.0, 0.0, 0.0, 0.0, 0.0, 0.0, 0.0, 0.0, 0.0, 0.0, 0.0, 0.0, 0.0, 0.0, 0.0, 0.0, 0.0, 0.0, 0.0, 0.0, 0.0, 0.0, 0.0, 0.0, 0.0, 0.0, 0.0, 0.0, 0.0, 0.0, 0.0, 0.0, 0.0, 0.0, 0.0, 0.0, 0.0, 0.0, 0.0, 0.0, 0.0, 0.0, 0.0, 0.0, 0.0, 0.0, 0.0, 0.0, 0.0, 0.0, 0.0, 0.0, 0.0, 0.0, 0.0, 0.0, 0.0, 0.0, 0.0, 0.0, 0.0, 0.0, 0.0, 0.0, 0.0, 0.0, 0.0, 0.12549035742556494, 0.12549035742556494, 1.1470965785339233, 1.1470965785339233, 2.5606470142961015, 2.5606470142961015, 6.668413383076391, 6.668413383076391, 9.347822634588486, 9.347822634588486, 10.227492624428127, 10.227492624428127, 14.352912639435566, 14.352912639435566, 14.582377600171895, 14.582377600171895, 42.236214278343304, 42.236214278343304, 44.71569992165637, 44.71569992165637, 53.68452176524015, 53.68452176524015, 80.69687542549767, 80.69687542549767, 114.34653180145897, 114.34653180145897, 117.67943213786272, 117.67943213786272, 184.78855654921688, 184.78855654921688, 187.15731649625891, 187.15731649625891, 195.69517919314836, 195.69517919314836, 207.3756791287444, 207.3756791287444, 276.7546608412114, 276.7546608412114, 286.06189283042244, 286.0618928304225, 311.14117594764804, 311.14117594764804, 334.0216842295332, 334.0216842295332, 341.20191338390185, 341.20191338390185, 345.701750205066, 345.701750205066, 376.8702075294853, 376.87020752948536, 388.70203290606315, 388.70203290606315, 420.4162487073861, 420.4162487073861, 424.6126588120549, 424.612658812055, 452.630270369797, 452.630270369797, 461.04394601731224, 461.04394601731224, 487.78393650083467, 487.7839365008347, 489.957766370049, 489.95776637004906, 490.01946448550774, 490.01946448550774, 512.8195005091237, 512.8195005091237, 519.3452244288287, 519.3452244288287, 531.222766289966, 531.2227662899661, 539.4444538860489, 539.4444538860489, 539.5048702820018, 539.5048702820018, 578.3425171533722, 578.3425171533723, 583.3643352006176, 583.3643352006176, 628.5807198610291, 628.5807198610291, 631.2212845955612, 631.2212845955612, 699.9196351979067, 699.9196351979067, 709.067553098679, 709.067553098679, 741.3753172973986, 741.3753172973986, 750.8099542104314, 750.8099542104314, 839.958117096473, 839.9581170964731, 876.8833110373835, 876.8833110373835, 919.0701842591009, 919.0701842591009, 937.0600900697937, 937.0600900697937, 945.3787333782906, 945.3787333782906, 988.9325187422141, 988.9325187422141, 994.3273468656408, 994.3273468656408, 1007.3056130615538, 1007.3056130615538, 1013.3664989963986, 1013.3664989963986, 1026.8899752536092, 1026.8899752536092, 1047.919070192127, 1047.919070192127, 1081.9345863178826, 1081.9345863178826, 1083.462791866613, 1083.462791866613, 1097.5402484858805, 1097.5402484858805, 1103.4694054281715, 1103.4694054281717, 1119.167175893938, 1119.167175893938, 1119.513217093815, 1119.513217093815, 1124.7143708976685, 1124.7143708976685, 1138.9267039682275, 1138.9267039682275, 1167.7615367042326, 1167.7615367042326, 1217.1721620372284, 1217.1721620372286, 1233.325476576584, 1233.325476576584, 1238.627209179551, 1238.6272091795513, 1262.7335236379754, 1262.7335236379754, 1269.0899171950102, 1269.0899171950107, 1286.4244059005878, 1286.424405900588, 1321.863511747749, 1321.8635117477493, 1328.227105156185, 1328.2271051561856, 1329.074323240874, 1329.074323240874, 1343.659830591234, 1343.6598305912341, 1350.6595117139389, 1350.6595117139389, 1385.3845873547134, 1385.3845873547136, 1393.193093825818, 1393.193093825818, 1434.4901837265156, 1434.4901837265156, 1448.8759521320296, 1448.8759521320296, 1488.499577275028, 1488.4995772750283, 1496.4202434456445, 1496.4202434456452, 1511.6539003235657, 1511.6539003235657, 1526.6169796107295, 1526.6169796107297, 1574.5844689912324, 1574.5844689912328, 1601.5635197048482, 1601.5635197048482, 1711.768122388326, 1711.768122388326, 1725.1021404538528, 1725.1021404538528, 1776.6653856126943, 1776.6653856126945, 1811.3062299716237, 1811.306229971624, 1820.7849980315382, 1820.7849980315382, 1832.4773724044112, 1832.4773724044112, 1863.4616866427048, 1863.4616866427048, 1874.932353845891, 1874.932353845891, 1895.0372422942141, 1895.0372422942146, 1921.4374559622356, 1921.4374559622356, 1946.9834349629314, 1946.9834349629314, 1954.7052612188916, 1954.7052612188922, 1963.5542944695023, 1963.5542944695023, 2055.5956165156076, 2055.5956165156076, 2090.1038218942895, 2090.1038218942895, 2165.074111205604, 2165.0741112056044, 2191.561108474287, 2191.561108474288, 2192.102450727241, 2192.1024507272427, 2196.401243060748, 2196.401243060748, 2222.660173040308, 2222.660173040308, 2230.1400666737577, 2230.1400666737586, 2255.816156556443, 2255.816156556443, 2269.3713368967624, 2269.371336896763, 2273.281566253725, 2273.281566253725, 2299.709106119202, 2299.7091061192023, 2299.973489715283, 2299.9734897152844, 2329.738054354221, 2329.738054354221, 2332.4801106751856, 2332.4801106751866, 2342.3839540973263, 2342.3839540973263, 2360.8058079505904, 2360.8058079505904, 2371.924436205677, 2371.924436205677, 2409.517463574259, 2409.5174635742596, 2426.5785828161183, 2426.5785828161193, 2428.69827501018, 2428.69827501018, 2435.941934933221, 2435.9419349332215, 2463.3615548296248, 2463.3615548296275, 2470.734415192641, 2470.734415192642, 2511.090691756181, 2511.090691756181, 2511.5615995699186, 2511.5615995699186, 2526.4256937225373, 2526.4256937225377, 2537.5359682247217, 2537.5359682247217, 2544.250203146706, 2544.250203146706, 2551.5471394695733, 2551.5471394695737, 2620.923361835591, 2620.923361835591, 2629.4201033029262, 2629.4201033029262, 2632.9648174131476, 2632.9648174131485, 2667.6969928426606, 2667.696992842661, 2675.773495513603, 2675.773495513604, 2677.660264994581, 2677.6602649945817, 2696.5203391884697, 2696.5203391884706, 2697.0825776424012, 2697.082577642402, 2763.7383263837078, 2763.7383263837078, 2785.8204568045016, 2785.8204568045016, 2813.9497851931947, 2813.9497851931947, 2842.206313861023, 2842.206313861023, 2854.5265264628943, 2854.5265264628943, 2870.866243950516, 2870.866243950516, 2875.4282883066153, 2875.4282883066153, 2881.044943393725, 2881.0449433937256, 2933.085619195687, 2933.085619195687, 3049.437116495331, 3049.437116495331, 3099.1955505157316, 3099.1955505157325, 3100.0148648434238, 3100.014864843425, 3142.4224168052647, 3142.4224168052647, 3149.0784364472265, 3149.078436447228, 3168.860507632083, 3168.8605076320837, 3172.5327185536717, 3172.532718553672, 3196.278383783237, 3196.2783837832376, 3202.5867849930005, 3202.586784993001, 3213.1504965124764, 3213.1504965124764, 3215.3355395534745, 3215.3355395534745, 3228.660473972222, 3228.660473972223, 3297.2375821902465, 3297.2375821902465, 3311.863267150267, 3311.863267150267, 3326.1726993646416, 3326.172699364642, 3348.89441826262, 3348.8944182626205, 3392.8553099257883, 3392.855309925789, 3438.902039715192, 3438.902039715192, 3448.7203405026594, 3448.72034050266, 3450.1625510471904, 3450.1625510471904, 3459.793157973315, 3459.7931579733154, 3531.536455163718, 3531.536455163718, 3539.1402942038226, 3539.1402942038235, 3554.831106673751, 3554.8311066737515, 3567.1298179691717, 3567.129817969172, 3575.461378580951, 3575.4613785809515, 3586.5585540324178, 3586.558554032418, 3606.530791503065, 3606.5307915030653, 3621.6280519041366, 3621.6280519041366, 3634.1095341347573, 3634.1095341347577, 3666.039037641311, 3666.039037641312, 3694.468738854226, 3694.4687388542266, 3695.614844830543, 3695.6148448305435, 3704.756683566541, 3704.756683566542, 3727.1504018759415, 3727.1504018759415, 3737.670139283125, 3737.670139283125, 3748.8669907798194, 3748.86699077982, 3759.633699474023, 3759.6336994740245, 3762.139831518546, 3762.139831518546, 3808.964964225274, 3808.9649642252743, 3824.01118312212, 3824.01118312212, 3828.9890331582005, 3828.989033158201, 3829.62908045997, 3829.62908045997, 3856.9091267614303, 3856.909126761431, 3897.039158785191, 3897.039158785192, 3984.397676735345, 3984.397676735345, 3993.4100923706874, 3993.4100923706874]\n"
     ]
    }
   ],
   "source": [
    "borders = check_small_boundary_lengths(vest_base)\n",
    "print(borders[:500])"
   ]
  },
  {
   "cell_type": "code",
   "execution_count": 33,
   "metadata": {},
   "outputs": [
    {
     "name": "stdout",
     "output_type": "stream",
     "text": [
      "Snapping all geometries to a grid with precision 10^( -5 ) to avoid GEOS errors.\n",
      "Identifying overlaps...\n"
     ]
    },
    {
     "name": "stderr",
     "output_type": "stream",
     "text": [
      "100%|███████████████████████████████████████| 285/285 [00:00<00:00, 6499.86it/s]\n"
     ]
    },
    {
     "name": "stdout",
     "output_type": "stream",
     "text": [
      "Resolving overlaps...\n",
      "Filling gaps...\n"
     ]
    },
    {
     "name": "stderr",
     "output_type": "stream",
     "text": [
      "Gaps to simplify: 0it [00:00, ?it/s]\n",
      "Gaps to fill: 0it [00:00, ?it/s]\n"
     ]
    },
    {
     "name": "stdout",
     "output_type": "stream",
     "text": [
      "Converting small rook adjacencies to queen...\n"
     ]
    },
    {
     "name": "stderr",
     "output_type": "stream",
     "text": [
      "100%|███████████████████████████████████████| 284/284 [00:00<00:00, 2085.07it/s]\n",
      "100%|███████████████████████████████████████████| 4/4 [00:00<00:00, 3481.47it/s]\n",
      "100%|███████████████████████████████████████████| 4/4 [00:00<00:00, 3416.25it/s]\n",
      "100%|███████████████████████████████████████████| 4/4 [00:00<00:00, 3117.86it/s]\n",
      "100%|███████████████████████████████████████████| 4/4 [00:00<00:00, 3502.55it/s]\n",
      "100%|███████████████████████████████████████████| 4/4 [00:00<00:00, 3093.71it/s]\n",
      "100%|███████████████████████████████████████████| 4/4 [00:00<00:00, 3167.90it/s]\n",
      "100%|███████████████████████████████████████████| 4/4 [00:00<00:00, 3369.60it/s]\n",
      "100%|███████████████████████████████████████████| 4/4 [00:00<00:00, 3120.18it/s]\n",
      "100%|███████████████████████████████████████| 284/284 [00:00<00:00, 2131.46it/s]\n"
     ]
    }
   ],
   "source": [
    "vest_base = do_smart_repair(vest_base, min_rook_length = 30.5)"
   ]
  },
  {
   "cell_type": "code",
   "execution_count": 34,
   "metadata": {},
   "outputs": [
    {
     "name": "stderr",
     "output_type": "stream",
     "text": [
      "100%|███████████████████████████████████████| 284/284 [00:00<00:00, 2144.35it/s]\n"
     ]
    },
    {
     "data": {
      "text/plain": [
       "True"
      ]
     },
     "execution_count": 34,
     "metadata": {},
     "output_type": "execute_result"
    }
   ],
   "source": [
    "maup.doctor(vest_base)"
   ]
  },
  {
   "cell_type": "code",
   "execution_count": 35,
   "metadata": {},
   "outputs": [
    {
     "name": "stderr",
     "output_type": "stream",
     "text": [
      "100%|████████████████████████████████████████| 284/284 [00:00<00:00, 885.89it/s]\n",
      "100%|████████████████████████████████████████| 284/284 [00:01<00:00, 272.69it/s]\n"
     ]
    }
   ],
   "source": [
    "# vap and population have the same GEOID20\n",
    "blocks_to_precincts_assignment = maup.assign(population_df.geometry, vest_base.geometry)"
   ]
  },
  {
   "cell_type": "code",
   "execution_count": 36,
   "metadata": {},
   "outputs": [],
   "source": [
    "vest_base[pop_col] = population_df[pop_col].groupby(blocks_to_precincts_assignment).sum()"
   ]
  },
  {
   "cell_type": "code",
   "execution_count": 37,
   "metadata": {},
   "outputs": [],
   "source": [
    "election_df = gpd.GeoDataFrame(vest_base)"
   ]
  },
  {
   "cell_type": "markdown",
   "metadata": {},
   "source": [
    "## Check if population agrees"
   ]
  },
  {
   "cell_type": "code",
   "execution_count": 39,
   "metadata": {},
   "outputs": [
    {
     "name": "stdout",
     "output_type": "stream",
     "text": [
      "population agrees\n"
     ]
    }
   ],
   "source": [
    "check_population(population_df, vest_base)"
   ]
  },
  {
   "cell_type": "markdown",
   "metadata": {},
   "source": [
    "### Add more vest data"
   ]
  },
  {
   "cell_type": "code",
   "execution_count": 41,
   "metadata": {},
   "outputs": [],
   "source": [
    "vest18 = gpd.read_file(vest18_data)\n",
    "vest16 = gpd.read_file(vest16_data)"
   ]
  },
  {
   "cell_type": "code",
   "execution_count": 42,
   "metadata": {},
   "outputs": [
    {
     "data": {
      "text/plain": [
       "Index(['STATEFP20', 'COUNTYFP20', 'NAME20', 'G16PREDCLI', 'G16PRERTRU',\n",
       "       'G16PRELJOH', 'G16PREGSTE', 'G16PREIFUE', 'G16PREOLAR', 'G16PREOSAN',\n",
       "       'G16PREOWRI', 'G16USSDLEA', 'G16USSRMIL', 'G16USSOERI', 'G16USSITRU',\n",
       "       'G16USSODIA', 'G16USSOWRI', 'G16HALOWEL', 'G16HALOCLA', 'G16HALOWRI',\n",
       "       'G16GOVDMIN', 'G16GOVRSCO', 'G16GOVOLEE', 'G16GOVOWRI', 'G16LTGDZUC',\n",
       "       'G16LTGRBRO', 'G16LTGOWAR', 'G16LTGOWRI', 'G16TREOPEA', 'G16TREPSCH',\n",
       "       'G16TREONGO', 'G16TREOWRI', 'G16SOSOCON', 'G16SOSOHER', 'G16SOSOWRI',\n",
       "       'G16AUDDHOF', 'G16AUDRFEL', 'G16AUDOBRO', 'G16AUDOWRI', 'G16ATGDDON',\n",
       "       'G16ATGRBUC', 'G16ATGOJAC', 'G16ATGOWRI', 'geometry'],\n",
       "      dtype='object')"
      ]
     },
     "execution_count": 42,
     "metadata": {},
     "output_type": "execute_result"
    }
   ],
   "source": [
    "vest16.columns"
   ]
  },
  {
   "cell_type": "code",
   "execution_count": 43,
   "metadata": {},
   "outputs": [
    {
     "data": {
      "text/plain": [
       "Index(['STATEFP20', 'COUNTYFP20', 'NAME20', 'G18USSISAN', 'G18USSRZUP',\n",
       "       'G18USSIPEA', 'G18USSIBES', 'G18USSIGIL', 'G18USSIADE', 'G18USSISVI',\n",
       "       'G18USSIBUS', 'G18USSOKAN', 'G18USSOWRI', 'G18HALDWEL', 'G18HALRTYN',\n",
       "       'G18HALIERI', 'G18HALOPOT', 'G18HALOWRI', 'G18GOVDHAL', 'G18GOVRSCO',\n",
       "       'G18GOVIBAR', 'G18GOVILAR', 'G18GOVIERI', 'G18GOVOMAR', 'G18GOVOPEY',\n",
       "       'G18GOVOWRI', 'G18LTGPZUC', 'G18LTGRTUR', 'G18LTGONGO', 'G18LTGOWRI',\n",
       "       'G18ATGDDON', 'G18ATGRWIL', 'G18ATGOJAC', 'G18ATGOWRI', 'G18SOSDCON',\n",
       "       'G18SOSRPAI', 'G18SOSOHER', 'G18SOSOWRI', 'G18TREDPEA', 'G18TRERMOR',\n",
       "       'G18TREOWRI', 'G18AUDDHOF', 'G18AUDRKEN', 'G18AUDOBRO', 'G18AUDOWRI',\n",
       "       'geometry'],\n",
       "      dtype='object')"
      ]
     },
     "execution_count": 43,
     "metadata": {},
     "output_type": "execute_result"
    }
   ],
   "source": [
    "vest18.columns"
   ]
  },
  {
   "cell_type": "code",
   "execution_count": 44,
   "metadata": {},
   "outputs": [
    {
     "name": "stderr",
     "output_type": "stream",
     "text": [
      "100%|███████████████████████████████████████| 284/284 [00:00<00:00, 1597.19it/s]\n",
      "100%|████████████████████████████████████████| 284/284 [00:00<00:00, 407.27it/s]\n",
      "100%|████████████████████████████████████████| 284/284 [00:00<00:00, 878.87it/s]\n",
      "100%|████████████████████████████████████████| 284/284 [00:01<00:00, 262.43it/s]\n"
     ]
    },
    {
     "name": "stdout",
     "output_type": "stream",
     "text": [
      "population agrees\n"
     ]
    },
    {
     "name": "stderr",
     "output_type": "stream",
     "text": [
      "100%|███████████████████████████████████████| 284/284 [00:00<00:00, 2071.63it/s]\n",
      "100%|████████████████████████████████████████| 284/284 [00:00<00:00, 419.86it/s]\n",
      "100%|████████████████████████████████████████| 284/284 [00:00<00:00, 926.48it/s]\n",
      "100%|████████████████████████████████████████| 284/284 [00:00<00:00, 284.71it/s]\n"
     ]
    },
    {
     "name": "stdout",
     "output_type": "stream",
     "text": [
      "population agrees\n"
     ]
    }
   ],
   "source": [
    "election_df = add_vest(vest18, election_df, '18', population_df, start_col)\n",
    "election_df = add_vest(vest16, election_df, '16', population_df, start_col)"
   ]
  },
  {
   "cell_type": "markdown",
   "metadata": {},
   "source": [
    "##  Add the district data"
   ]
  },
  {
   "cell_type": "code",
   "execution_count": 46,
   "metadata": {},
   "outputs": [],
   "source": [
    "send = gpd.read_file(send_data)\n",
    "send = send.to_crs(send.estimate_utm_crs())\n",
    "hdist = gpd.read_file(hdist_data)\n",
    "hdist = hdist.to_crs(hdist.estimate_utm_crs())"
   ]
  },
  {
   "cell_type": "code",
   "execution_count": 47,
   "metadata": {},
   "outputs": [
    {
     "name": "stderr",
     "output_type": "stream",
     "text": [
      "100%|██████████████████████████████████████████| 16/16 [00:00<00:00, 557.39it/s]\n",
      "100%|█████████████████████████████████████████| 16/16 [00:00<00:00, 1416.58it/s]\n",
      "100%|██████████████████████████████████████████| 16/16 [00:00<00:00, 193.06it/s]\n"
     ]
    }
   ],
   "source": [
    "election_df = add_district(send, \"SEND\", election_df, \"ID\")"
   ]
  },
  {
   "cell_type": "code",
   "execution_count": 48,
   "metadata": {},
   "outputs": [
    {
     "name": "stderr",
     "output_type": "stream",
     "text": [
      "100%|███████████████████████████████████████| 109/109 [00:00<00:00, 1158.63it/s]\n",
      "100%|███████████████████████████████████████| 109/109 [00:00<00:00, 4200.39it/s]\n",
      "100%|████████████████████████████████████████| 109/109 [00:00<00:00, 547.55it/s]\n"
     ]
    }
   ],
   "source": [
    "election_df = add_district(hdist, \"HDIST\", election_df, \"ID\")"
   ]
  },
  {
   "cell_type": "code",
   "execution_count": 49,
   "metadata": {},
   "outputs": [
    {
     "data": {
      "text/plain": [
       "Index(['2MOREVAP', 'AMINVAP', 'ASIANVAP', 'ATG16D', 'ATG16O', 'ATG16R',\n",
       "       'ATG18D', 'ATG18O', 'ATG18R', 'ATG20D', 'ATG20O', 'ATG20R', 'AUD16D',\n",
       "       'AUD16O', 'AUD16R', 'AUD18D', 'AUD18O', 'AUD18R', 'AUD20O', 'BVAP',\n",
       "       'COUNTYFP20', 'GOV16D', 'GOV16O', 'GOV16R', 'GOV18D', 'GOV18O',\n",
       "       'GOV18R', 'GOV20D', 'GOV20O', 'GOV20R', 'HAL16O', 'HAL18D', 'HAL18O',\n",
       "       'HAL18R', 'HAL20D', 'HAL20O', 'HISP', 'HVAP', 'H_2MORE', 'H_AMIN',\n",
       "       'H_ASIAN', 'H_BLACK', 'H_NHPI', 'H_OTHER', 'H_WHITE', 'LTG16D',\n",
       "       'LTG16O', 'LTG16R', 'LTG18O', 'LTG18R', 'LTG20D', 'LTG20O', 'LTG20R',\n",
       "       'NAME20', 'NHPIVAP', 'NH_2MORE', 'NH_AMIN', 'NH_ASIAN', 'NH_BLACK',\n",
       "       'NH_NHPI', 'NH_OTHER', 'NH_WHITE', 'OTHERVAP', 'PRE16D', 'PRE16O',\n",
       "       'PRE16R', 'PRE20D', 'PRE20O', 'PRE20R', 'SOS16O', 'SOS18D', 'SOS18O',\n",
       "       'SOS18R', 'SOS20D', 'SOS20O', 'SOS20R', 'STATEFP20', 'TOTPOP', 'TRE16O',\n",
       "       'TRE18D', 'TRE18O', 'TRE18R', 'TRE20D', 'TRE20O', 'TRE20R', 'USS16D',\n",
       "       'USS16O', 'USS16R', 'USS18O', 'USS18R', 'VAP', 'WVAP', 'geometry',\n",
       "       'SEND', 'HDIST'],\n",
       "      dtype='object')"
      ]
     },
     "execution_count": 49,
     "metadata": {},
     "output_type": "execute_result"
    }
   ],
   "source": [
    "election_df.columns"
   ]
  },
  {
   "cell_type": "code",
   "execution_count": 50,
   "metadata": {},
   "outputs": [
    {
     "name": "stderr",
     "output_type": "stream",
     "text": [
      "100%|███████████████████████████████████████| 284/284 [00:00<00:00, 2137.12it/s]\n"
     ]
    },
    {
     "data": {
      "text/plain": [
       "True"
      ]
     },
     "execution_count": 50,
     "metadata": {},
     "output_type": "execute_result"
    }
   ],
   "source": [
    "maup.doctor(election_df)"
   ]
  },
  {
   "cell_type": "markdown",
   "metadata": {},
   "source": [
    "### Put the base precinct year after the precinct information column"
   ]
  },
  {
   "cell_type": "code",
   "execution_count": 52,
   "metadata": {},
   "outputs": [],
   "source": [
    "base_columns = {}\n",
    "if 'COUNTYFP' + year not in election_df.columns:\n",
    "    base_columns = {\n",
    "        'COUNTYFP':'COUNTYFP'+year,\n",
    "        'STATEFP':'STATEFP'+year,\n",
    "        'NAME':'NAME'+year} \n",
    "election_df.rename(columns=base_columns, inplace = True)"
   ]
  },
  {
   "cell_type": "code",
   "execution_count": 53,
   "metadata": {},
   "outputs": [],
   "source": [
    "# reorder the columns\n",
    "fixed_columns = [\n",
    "    'COUNTYFP'+year,\n",
    "    'STATEFP'+year,\n",
    "    'NAME'+year,\n",
    "    'SEND',\n",
    "    'HDIST',\n",
    "    'TOTPOP',\n",
    "    'NH_2MORE',\n",
    "    'NH_AMIN',\n",
    "    'NH_ASIAN',\n",
    "    'NH_BLACK',\n",
    "    'NH_NHPI',\n",
    "    'NH_OTHER',\n",
    "    'NH_WHITE',\n",
    "    'HISP',\n",
    "    'H_AMIN',\n",
    "    'H_ASIAN',\n",
    "    'H_BLACK',\n",
    "    'H_NHPI',\n",
    "    'H_OTHER',\n",
    "    'H_WHITE',\n",
    "    'H_2MORE',\n",
    "    'VAP',\n",
    "    'HVAP',\n",
    "    'WVAP',\n",
    "    'BVAP',\n",
    "    'AMINVAP',\n",
    "    'ASIANVAP',\n",
    "    'NHPIVAP',\n",
    "    'OTHERVAP',\n",
    "    '2MOREVAP']\n",
    "\n",
    "election_columns = [col for col in election_df.columns if col not in fixed_columns]\n",
    "final_col = fixed_columns + election_columns\n",
    "election_df = election_df[final_col]"
   ]
  },
  {
   "cell_type": "code",
   "execution_count": 54,
   "metadata": {},
   "outputs": [
    {
     "data": {
      "text/plain": [
       "Index(['COUNTYFP20', 'STATEFP20', 'NAME20', 'SEND', 'HDIST', 'TOTPOP',\n",
       "       'NH_2MORE', 'NH_AMIN', 'NH_ASIAN', 'NH_BLACK', 'NH_NHPI', 'NH_OTHER',\n",
       "       'NH_WHITE', 'HISP', 'H_AMIN', 'H_ASIAN', 'H_BLACK', 'H_NHPI', 'H_OTHER',\n",
       "       'H_WHITE', 'H_2MORE', 'VAP', 'HVAP', 'WVAP', 'BVAP', 'AMINVAP',\n",
       "       'ASIANVAP', 'NHPIVAP', 'OTHERVAP', '2MOREVAP', 'ATG16D', 'ATG16O',\n",
       "       'ATG16R', 'ATG18D', 'ATG18O', 'ATG18R', 'ATG20D', 'ATG20O', 'ATG20R',\n",
       "       'AUD16D', 'AUD16O', 'AUD16R', 'AUD18D', 'AUD18O', 'AUD18R', 'AUD20O',\n",
       "       'GOV16D', 'GOV16O', 'GOV16R', 'GOV18D', 'GOV18O', 'GOV18R', 'GOV20D',\n",
       "       'GOV20O', 'GOV20R', 'HAL16O', 'HAL18D', 'HAL18O', 'HAL18R', 'HAL20D',\n",
       "       'HAL20O', 'LTG16D', 'LTG16O', 'LTG16R', 'LTG18O', 'LTG18R', 'LTG20D',\n",
       "       'LTG20O', 'LTG20R', 'PRE16D', 'PRE16O', 'PRE16R', 'PRE20D', 'PRE20O',\n",
       "       'PRE20R', 'SOS16O', 'SOS18D', 'SOS18O', 'SOS18R', 'SOS20D', 'SOS20O',\n",
       "       'SOS20R', 'TRE16O', 'TRE18D', 'TRE18O', 'TRE18R', 'TRE20D', 'TRE20O',\n",
       "       'TRE20R', 'USS16D', 'USS16O', 'USS16R', 'USS18O', 'USS18R', 'geometry'],\n",
       "      dtype='object')"
      ]
     },
     "execution_count": 54,
     "metadata": {},
     "output_type": "execute_result"
    }
   ],
   "source": [
    "election_df.columns"
   ]
  },
  {
   "cell_type": "code",
   "execution_count": 55,
   "metadata": {},
   "outputs": [],
   "source": [
    "import os\n",
    "\n",
    "# store the result in directory \"il\"\n",
    "directory = \"./{}\".format(state_ab)\n",
    "if not os.path.exists(directory):\n",
    "    os.makedirs(directory)\n",
    "\n",
    "shapefile_path = \"./{}/{}.shp\".format(state_ab, state_ab)\n",
    "geojson_path = './{}/{}.geojson'.format(state_ab, state_ab)\n",
    "json_path = \"./{}.json\".format(state_ab, state_ab)\n",
    "\n",
    "# Check if the shapefile or geojson file already exists\n",
    "if os.path.exists(shapefile_path):\n",
    "    os.remove(shapefile_path)\n",
    "if os.path.exists(geojson_path):\n",
    "    os.remove(geojson_path)\n",
    "\n",
    "election_df.to_file(shapefile_path)\n",
    "election_df.to_file(geojson_path, driver='GeoJSON')\n",
    "\n",
    "# Only do once to build json and read from file when generating ensembles\n",
    "graph = Graph.from_file(shapefile_path, ignore_errors=True)\n",
    "graph.to_json(json_path)"
   ]
  },
  {
   "cell_type": "code",
   "execution_count": 56,
   "metadata": {},
   "outputs": [
    {
     "data": {
      "text/plain": [
       "<Axes: >"
      ]
     },
     "execution_count": 56,
     "metadata": {},
     "output_type": "execute_result"
    },
    {
     "data": {
      "image/png": "[encoded data removed]",
      "text/plain": [
       "<Figure size 640x480 with 1 Axes>"
      ]
     },
     "metadata": {},
     "output_type": "display_data"
    }
   ],
   "source": [
    "shapefile_path = \"./{}/{}.shp\".format(state_ab, state_ab)\n",
    "shape=gpd.read_file(shapefile_path)\n",
    "shape.plot()"
   ]
  }
 ],
 "metadata": {
  "kernelspec": {
   "display_name": "gerry",
   "language": "python",
   "name": "gerry"
  },
  "language_info": {
   "codemirror_mode": {
    "name": "ipython",
    "version": 3
   },
   "file_extension": ".py",
   "mimetype": "text/x-python",
   "name": "python",
   "nbconvert_exporter": "python",
   "pygments_lexer": "ipython3",
   "version": "3.11.4"
  }
 },
 "nbformat": 4,
 "nbformat_minor": 4
}
